{
 "cells": [
  {
   "cell_type": "markdown",
   "metadata": {
    "application/vnd.databricks.v1+cell": {
     "inputWidgets": {},
     "nuid": "c3d95a97-f79b-41d1-a796-4bb7c67a5340",
     "showTitle": false,
     "title": ""
    }
   },
   "source": [
    "![](https://spark.apache.org/images/spark-logo-trademark.png)\n",
    "\n",
    "# Loading a file\n",
    "\n",
    "The first thing we have to do to process a file is.. load it.\n",
    "So let's give it a try and load a sample file into a dataframe."
   ]
  },
  {
   "cell_type": "code",
   "execution_count": 53,
   "metadata": {},
   "outputs": [],
   "source": [
    "from pyspark.sql import SparkSession\n",
    "\n",
    "# Create a new SparkSession\n",
    "\n",
    "spark = SparkSession \\\n",
    "    .builder \\\n",
    "    .appName(\"Introduction to Pyspark - Pyladies\") \\\n",
    "    .getOrCreate()\n",
    "\n",
    "\n",
    "# You can change Spark configuration with this syntax (Property, newValue)\n",
    "spark.conf.set(\"spark.sql.legacy.timeParserPolicy\", \"LEGACY\")\n",
    "spark.conf.set(\"spark.sql.repl.eagerEval.enabled\", True)"
   ]
  },
  {
   "cell_type": "code",
   "execution_count": 54,
   "metadata": {
    "application/vnd.databricks.v1+cell": {
     "inputWidgets": {},
     "nuid": "6d2ee1ee-6c2e-4908-9b12-112cdf2b140e",
     "showTitle": false,
     "title": ""
    }
   },
   "outputs": [
    {
     "data": {
      "text/html": [
       "<table border='1'>\n",
       "<tr><th>_c0</th><th>_c1</th><th>_c2</th><th>_c3</th><th>_c4</th><th>_c5</th><th>_c6</th><th>_c7</th><th>_c8</th><th>_c9</th><th>_c10</th><th>_c11</th><th>_c12</th><th>_c13</th></tr>\n",
       "<tr><td>region</td><td>country</td><td>item_type</td><td>sales_channel</td><td>order_priority</td><td>order_date</td><td>order_id</td><td>ship_date</td><td>units_sold</td><td>unit_price</td><td>unit_cost</td><td>total_revenue</td><td>total_cost</td><td>total_profit</td></tr>\n",
       "<tr><td>Middle East and N...</td><td>Libya</td><td>Cosmetics</td><td>Offline</td><td>M</td><td>10/18/2014</td><td>686800706</td><td>10/31/2014</td><td>8446</td><td>437.20</td><td>263.33</td><td>3692591.20</td><td>2224085.18</td><td>1468506.02</td></tr>\n",
       "<tr><td>North America</td><td>Canada</td><td>Vegetables</td><td>Online</td><td>M</td><td>11/7/2011</td><td>185941302</td><td>12/8/2011</td><td>3018</td><td>154.06</td><td>90.93</td><td>464953.08</td><td>274426.74</td><td>190526.34</td></tr>\n",
       "<tr><td>Middle East and N...</td><td>Libya</td><td>Baby Food</td><td>Offline</td><td>C</td><td>10/31/2016</td><td>246222341</td><td>12/9/2016</td><td>1517</td><td>255.28</td><td>159.42</td><td>387259.76</td><td>241840.14</td><td>145419.62</td></tr>\n",
       "<tr><td>Asia</td><td>Japan</td><td>Cereal</td><td>Offline</td><td>C</td><td>4/10/2010</td><td>161442649</td><td>5/12/2010</td><td>3322</td><td>205.70</td><td>117.11</td><td>683335.40</td><td>389039.42</td><td>294295.98</td></tr>\n",
       "<tr><td>Sub-Saharan Africa</td><td>Chad</td><td>Fruits</td><td>Offline</td><td>H</td><td>8/16/2011</td><td>645713555</td><td>8/31/2011</td><td>9845</td><td>9.33</td><td>6.92</td><td>91853.85</td><td>68127.40</td><td>23726.45</td></tr>\n",
       "<tr><td>Europe</td><td>Armenia</td><td>Cereal</td><td>Online</td><td>H</td><td>11/24/2014</td><td>683458888</td><td>12/28/2014</td><td>9528</td><td>205.70</td><td>117.11</td><td>1959909.60</td><td>1115824.08</td><td>844085.52</td></tr>\n",
       "<tr><td>Sub-Saharan Africa</td><td>Eritrea</td><td>Cereal</td><td>Online</td><td>H</td><td>3/4/2015</td><td>679414975</td><td>4/17/2015</td><td>2844</td><td>205.70</td><td>117.11</td><td>585010.80</td><td>333060.84</td><td>251949.96</td></tr>\n",
       "<tr><td>Europe</td><td>Montenegro</td><td>Clothes</td><td>Offline</td><td>M</td><td>5/17/2012</td><td>208630645</td><td>6/28/2012</td><td>7299</td><td>109.28</td><td>35.84</td><td>797634.72</td><td>261596.16</td><td>536038.56</td></tr>\n",
       "<tr><td>Central America a...</td><td>Jamaica</td><td>Vegetables</td><td>Online</td><td>H</td><td>1/29/2015</td><td>266467225</td><td>3/7/2015</td><td>2428</td><td>154.06</td><td>90.93</td><td>374057.68</td><td>220778.04</td><td>153279.64</td></tr>\n",
       "<tr><td>Australia and Oce...</td><td>Fiji</td><td>Vegetables</td><td>Offline</td><td>H</td><td>12/24/2013</td><td>118598544</td><td>1/19/2014</td><td>4800</td><td>154.06</td><td>90.93</td><td>739488.00</td><td>436464.00</td><td>303024.00</td></tr>\n",
       "<tr><td>Sub-Saharan Africa</td><td>Togo</td><td>Clothes</td><td>Online</td><td>M</td><td>12/29/2015</td><td>451010930</td><td>1/19/2016</td><td>3012</td><td>109.28</td><td>35.84</td><td>329151.36</td><td>107950.08</td><td>221201.28</td></tr>\n",
       "<tr><td>Europe</td><td>Montenegro</td><td>Snacks</td><td>Offline</td><td>M</td><td>2/27/2010</td><td>220003211</td><td>3/18/2010</td><td>2694</td><td>152.58</td><td>97.44</td><td>411050.52</td><td>262503.36</td><td>148547.16</td></tr>\n",
       "<tr><td>Europe</td><td>Greece</td><td>Household</td><td>Online</td><td>C</td><td>11/17/2016</td><td>702186715</td><td>12/22/2016</td><td>1508</td><td>668.27</td><td>502.54</td><td>1007751.16</td><td>757830.32</td><td>249920.84</td></tr>\n",
       "<tr><td>Sub-Saharan Africa</td><td>Sudan</td><td>Cosmetics</td><td>Online</td><td>C</td><td>12/20/2015</td><td>544485270</td><td>1/5/2016</td><td>4146</td><td>437.20</td><td>263.33</td><td>1812631.20</td><td>1091766.18</td><td>720865.02</td></tr>\n",
       "<tr><td>Asia</td><td>Maldives</td><td>Fruits</td><td>Offline</td><td>L</td><td>1/8/2011</td><td>714135205</td><td>2/6/2011</td><td>7332</td><td>9.33</td><td>6.92</td><td>68407.56</td><td>50737.44</td><td>17670.12</td></tr>\n",
       "<tr><td>Europe</td><td>Montenegro</td><td>Clothes</td><td>Offline</td><td>H</td><td>6/28/2010</td><td>448685348</td><td>7/22/2010</td><td>4820</td><td>109.28</td><td>35.84</td><td>526729.60</td><td>172748.80</td><td>353980.80</td></tr>\n",
       "<tr><td>Europe</td><td>Estonia</td><td>Office Supplies</td><td>Online</td><td>H</td><td>4/25/2016</td><td>405997025</td><td>5/12/2016</td><td>2397</td><td>651.21</td><td>524.96</td><td>1560950.37</td><td>1258329.12</td><td>302621.25</td></tr>\n",
       "<tr><td>North America</td><td>Greenland</td><td>Beverages</td><td>Online</td><td>M</td><td>7/27/2012</td><td>414244067</td><td>8/7/2012</td><td>2880</td><td>47.45</td><td>31.79</td><td>136656.00</td><td>91555.20</td><td>45100.80</td></tr>\n",
       "<tr><td>Sub-Saharan Africa</td><td>Cape Verde</td><td>Clothes</td><td>Online</td><td>C</td><td>9/8/2014</td><td>821912801</td><td>10/3/2014</td><td>1117</td><td>109.28</td><td>35.84</td><td>122065.76</td><td>40033.28</td><td>82032.48</td></tr>\n",
       "</table>\n",
       "only showing top 20 rows\n"
      ],
      "text/plain": [
       "+--------------------+----------+---------------+-------------+--------------+----------+---------+----------+----------+----------+---------+-------------+----------+------------+\n",
       "|                 _c0|       _c1|            _c2|          _c3|           _c4|       _c5|      _c6|       _c7|       _c8|       _c9|     _c10|         _c11|      _c12|        _c13|\n",
       "+--------------------+----------+---------------+-------------+--------------+----------+---------+----------+----------+----------+---------+-------------+----------+------------+\n",
       "|              region|   country|      item_type|sales_channel|order_priority|order_date| order_id| ship_date|units_sold|unit_price|unit_cost|total_revenue|total_cost|total_profit|\n",
       "|Middle East and N...|     Libya|      Cosmetics|      Offline|             M|10/18/2014|686800706|10/31/2014|      8446|    437.20|   263.33|   3692591.20|2224085.18|  1468506.02|\n",
       "|       North America|    Canada|     Vegetables|       Online|             M| 11/7/2011|185941302| 12/8/2011|      3018|    154.06|    90.93|    464953.08| 274426.74|   190526.34|\n",
       "|Middle East and N...|     Libya|      Baby Food|      Offline|             C|10/31/2016|246222341| 12/9/2016|      1517|    255.28|   159.42|    387259.76| 241840.14|   145419.62|\n",
       "|                Asia|     Japan|         Cereal|      Offline|             C| 4/10/2010|161442649| 5/12/2010|      3322|    205.70|   117.11|    683335.40| 389039.42|   294295.98|\n",
       "|  Sub-Saharan Africa|      Chad|         Fruits|      Offline|             H| 8/16/2011|645713555| 8/31/2011|      9845|      9.33|     6.92|     91853.85|  68127.40|    23726.45|\n",
       "|              Europe|   Armenia|         Cereal|       Online|             H|11/24/2014|683458888|12/28/2014|      9528|    205.70|   117.11|   1959909.60|1115824.08|   844085.52|\n",
       "|  Sub-Saharan Africa|   Eritrea|         Cereal|       Online|             H|  3/4/2015|679414975| 4/17/2015|      2844|    205.70|   117.11|    585010.80| 333060.84|   251949.96|\n",
       "|              Europe|Montenegro|        Clothes|      Offline|             M| 5/17/2012|208630645| 6/28/2012|      7299|    109.28|    35.84|    797634.72| 261596.16|   536038.56|\n",
       "|Central America a...|   Jamaica|     Vegetables|       Online|             H| 1/29/2015|266467225|  3/7/2015|      2428|    154.06|    90.93|    374057.68| 220778.04|   153279.64|\n",
       "|Australia and Oce...|      Fiji|     Vegetables|      Offline|             H|12/24/2013|118598544| 1/19/2014|      4800|    154.06|    90.93|    739488.00| 436464.00|   303024.00|\n",
       "|  Sub-Saharan Africa|      Togo|        Clothes|       Online|             M|12/29/2015|451010930| 1/19/2016|      3012|    109.28|    35.84|    329151.36| 107950.08|   221201.28|\n",
       "|              Europe|Montenegro|         Snacks|      Offline|             M| 2/27/2010|220003211| 3/18/2010|      2694|    152.58|    97.44|    411050.52| 262503.36|   148547.16|\n",
       "|              Europe|    Greece|      Household|       Online|             C|11/17/2016|702186715|12/22/2016|      1508|    668.27|   502.54|   1007751.16| 757830.32|   249920.84|\n",
       "|  Sub-Saharan Africa|     Sudan|      Cosmetics|       Online|             C|12/20/2015|544485270|  1/5/2016|      4146|    437.20|   263.33|   1812631.20|1091766.18|   720865.02|\n",
       "|                Asia|  Maldives|         Fruits|      Offline|             L|  1/8/2011|714135205|  2/6/2011|      7332|      9.33|     6.92|     68407.56|  50737.44|    17670.12|\n",
       "|              Europe|Montenegro|        Clothes|      Offline|             H| 6/28/2010|448685348| 7/22/2010|      4820|    109.28|    35.84|    526729.60| 172748.80|   353980.80|\n",
       "|              Europe|   Estonia|Office Supplies|       Online|             H| 4/25/2016|405997025| 5/12/2016|      2397|    651.21|   524.96|   1560950.37|1258329.12|   302621.25|\n",
       "|       North America| Greenland|      Beverages|       Online|             M| 7/27/2012|414244067|  8/7/2012|      2880|     47.45|    31.79|    136656.00|  91555.20|    45100.80|\n",
       "|  Sub-Saharan Africa|Cape Verde|        Clothes|       Online|             C|  9/8/2014|821912801| 10/3/2014|      1117|    109.28|    35.84|    122065.76|  40033.28|    82032.48|\n",
       "+--------------------+----------+---------------+-------------+--------------+----------+---------+----------+----------+----------+---------+-------------+----------+------------+\n",
       "only showing top 20 rows"
      ]
     },
     "execution_count": 54,
     "metadata": {},
     "output_type": "execute_result"
    }
   ],
   "source": [
    "\n",
    "# Loads file into dataframe\n",
    "\n",
    "sales_dataframe = spark.read.csv(\"SalesRecords.csv\")\n",
    "\n",
    "# # Display the dataframe\n",
    "\n",
    "sales_dataframe"
   ]
  },
  {
   "cell_type": "markdown",
   "metadata": {
    "application/vnd.databricks.v1+cell": {
     "inputWidgets": {},
     "nuid": "aa634ed3-0608-47d3-ae75-90953cbd5079",
     "showTitle": false,
     "title": ""
    }
   },
   "source": [
    "That was easy, right? There seems to be something wrong with our column names though.\n",
    "\n",
    "# Read options\n",
    "\n",
    "The `read.csv` function allows options like `header` and `sep` (for separator). We can use them to proper load our file.\n",
    "\n",
    "You can find the full list and documentation [here](https://spark.apache.org/docs/latest/api/python/pyspark.sql.html?highlight=read%20csv#pyspark.sql.DataFrameReader.csv)"
   ]
  },
  {
   "cell_type": "code",
   "execution_count": 55,
   "metadata": {
    "application/vnd.databricks.v1+cell": {
     "inputWidgets": {},
     "nuid": "4082d9a3-12bf-4179-b963-658aa4d8ed5e",
     "showTitle": false,
     "title": ""
    }
   },
   "outputs": [
    {
     "data": {
      "text/html": [
       "<table border='1'>\n",
       "<tr><th>region</th><th>country</th><th>item_type</th><th>sales_channel</th><th>order_priority</th><th>order_date</th><th>order_id</th><th>ship_date</th><th>units_sold</th><th>unit_price</th><th>unit_cost</th><th>total_revenue</th><th>total_cost</th><th>total_profit</th></tr>\n",
       "<tr><td>Middle East and N...</td><td>Libya</td><td>Cosmetics</td><td>Offline</td><td>M</td><td>10/18/2014</td><td>686800706</td><td>10/31/2014</td><td>8446</td><td>437.20</td><td>263.33</td><td>3692591.20</td><td>2224085.18</td><td>1468506.02</td></tr>\n",
       "<tr><td>North America</td><td>Canada</td><td>Vegetables</td><td>Online</td><td>M</td><td>11/7/2011</td><td>185941302</td><td>12/8/2011</td><td>3018</td><td>154.06</td><td>90.93</td><td>464953.08</td><td>274426.74</td><td>190526.34</td></tr>\n",
       "<tr><td>Middle East and N...</td><td>Libya</td><td>Baby Food</td><td>Offline</td><td>C</td><td>10/31/2016</td><td>246222341</td><td>12/9/2016</td><td>1517</td><td>255.28</td><td>159.42</td><td>387259.76</td><td>241840.14</td><td>145419.62</td></tr>\n",
       "<tr><td>Asia</td><td>Japan</td><td>Cereal</td><td>Offline</td><td>C</td><td>4/10/2010</td><td>161442649</td><td>5/12/2010</td><td>3322</td><td>205.70</td><td>117.11</td><td>683335.40</td><td>389039.42</td><td>294295.98</td></tr>\n",
       "<tr><td>Sub-Saharan Africa</td><td>Chad</td><td>Fruits</td><td>Offline</td><td>H</td><td>8/16/2011</td><td>645713555</td><td>8/31/2011</td><td>9845</td><td>9.33</td><td>6.92</td><td>91853.85</td><td>68127.40</td><td>23726.45</td></tr>\n",
       "<tr><td>Europe</td><td>Armenia</td><td>Cereal</td><td>Online</td><td>H</td><td>11/24/2014</td><td>683458888</td><td>12/28/2014</td><td>9528</td><td>205.70</td><td>117.11</td><td>1959909.60</td><td>1115824.08</td><td>844085.52</td></tr>\n",
       "<tr><td>Sub-Saharan Africa</td><td>Eritrea</td><td>Cereal</td><td>Online</td><td>H</td><td>3/4/2015</td><td>679414975</td><td>4/17/2015</td><td>2844</td><td>205.70</td><td>117.11</td><td>585010.80</td><td>333060.84</td><td>251949.96</td></tr>\n",
       "<tr><td>Europe</td><td>Montenegro</td><td>Clothes</td><td>Offline</td><td>M</td><td>5/17/2012</td><td>208630645</td><td>6/28/2012</td><td>7299</td><td>109.28</td><td>35.84</td><td>797634.72</td><td>261596.16</td><td>536038.56</td></tr>\n",
       "<tr><td>Central America a...</td><td>Jamaica</td><td>Vegetables</td><td>Online</td><td>H</td><td>1/29/2015</td><td>266467225</td><td>3/7/2015</td><td>2428</td><td>154.06</td><td>90.93</td><td>374057.68</td><td>220778.04</td><td>153279.64</td></tr>\n",
       "<tr><td>Australia and Oce...</td><td>Fiji</td><td>Vegetables</td><td>Offline</td><td>H</td><td>12/24/2013</td><td>118598544</td><td>1/19/2014</td><td>4800</td><td>154.06</td><td>90.93</td><td>739488.00</td><td>436464.00</td><td>303024.00</td></tr>\n",
       "<tr><td>Sub-Saharan Africa</td><td>Togo</td><td>Clothes</td><td>Online</td><td>M</td><td>12/29/2015</td><td>451010930</td><td>1/19/2016</td><td>3012</td><td>109.28</td><td>35.84</td><td>329151.36</td><td>107950.08</td><td>221201.28</td></tr>\n",
       "<tr><td>Europe</td><td>Montenegro</td><td>Snacks</td><td>Offline</td><td>M</td><td>2/27/2010</td><td>220003211</td><td>3/18/2010</td><td>2694</td><td>152.58</td><td>97.44</td><td>411050.52</td><td>262503.36</td><td>148547.16</td></tr>\n",
       "<tr><td>Europe</td><td>Greece</td><td>Household</td><td>Online</td><td>C</td><td>11/17/2016</td><td>702186715</td><td>12/22/2016</td><td>1508</td><td>668.27</td><td>502.54</td><td>1007751.16</td><td>757830.32</td><td>249920.84</td></tr>\n",
       "<tr><td>Sub-Saharan Africa</td><td>Sudan</td><td>Cosmetics</td><td>Online</td><td>C</td><td>12/20/2015</td><td>544485270</td><td>1/5/2016</td><td>4146</td><td>437.20</td><td>263.33</td><td>1812631.20</td><td>1091766.18</td><td>720865.02</td></tr>\n",
       "<tr><td>Asia</td><td>Maldives</td><td>Fruits</td><td>Offline</td><td>L</td><td>1/8/2011</td><td>714135205</td><td>2/6/2011</td><td>7332</td><td>9.33</td><td>6.92</td><td>68407.56</td><td>50737.44</td><td>17670.12</td></tr>\n",
       "<tr><td>Europe</td><td>Montenegro</td><td>Clothes</td><td>Offline</td><td>H</td><td>6/28/2010</td><td>448685348</td><td>7/22/2010</td><td>4820</td><td>109.28</td><td>35.84</td><td>526729.60</td><td>172748.80</td><td>353980.80</td></tr>\n",
       "<tr><td>Europe</td><td>Estonia</td><td>Office Supplies</td><td>Online</td><td>H</td><td>4/25/2016</td><td>405997025</td><td>5/12/2016</td><td>2397</td><td>651.21</td><td>524.96</td><td>1560950.37</td><td>1258329.12</td><td>302621.25</td></tr>\n",
       "<tr><td>North America</td><td>Greenland</td><td>Beverages</td><td>Online</td><td>M</td><td>7/27/2012</td><td>414244067</td><td>8/7/2012</td><td>2880</td><td>47.45</td><td>31.79</td><td>136656.00</td><td>91555.20</td><td>45100.80</td></tr>\n",
       "<tr><td>Sub-Saharan Africa</td><td>Cape Verde</td><td>Clothes</td><td>Online</td><td>C</td><td>9/8/2014</td><td>821912801</td><td>10/3/2014</td><td>1117</td><td>109.28</td><td>35.84</td><td>122065.76</td><td>40033.28</td><td>82032.48</td></tr>\n",
       "<tr><td>Sub-Saharan Africa</td><td>Senegal</td><td>Household</td><td>Offline</td><td>L</td><td>8/27/2012</td><td>247802054</td><td>9/8/2012</td><td>8989</td><td>668.27</td><td>502.54</td><td>6007079.03</td><td>4517332.06</td><td>1489746.97</td></tr>\n",
       "</table>\n",
       "only showing top 20 rows\n"
      ],
      "text/plain": [
       "+--------------------+----------+---------------+-------------+--------------+----------+---------+----------+----------+----------+---------+-------------+----------+------------+\n",
       "|              region|   country|      item_type|sales_channel|order_priority|order_date| order_id| ship_date|units_sold|unit_price|unit_cost|total_revenue|total_cost|total_profit|\n",
       "+--------------------+----------+---------------+-------------+--------------+----------+---------+----------+----------+----------+---------+-------------+----------+------------+\n",
       "|Middle East and N...|     Libya|      Cosmetics|      Offline|             M|10/18/2014|686800706|10/31/2014|      8446|    437.20|   263.33|   3692591.20|2224085.18|  1468506.02|\n",
       "|       North America|    Canada|     Vegetables|       Online|             M| 11/7/2011|185941302| 12/8/2011|      3018|    154.06|    90.93|    464953.08| 274426.74|   190526.34|\n",
       "|Middle East and N...|     Libya|      Baby Food|      Offline|             C|10/31/2016|246222341| 12/9/2016|      1517|    255.28|   159.42|    387259.76| 241840.14|   145419.62|\n",
       "|                Asia|     Japan|         Cereal|      Offline|             C| 4/10/2010|161442649| 5/12/2010|      3322|    205.70|   117.11|    683335.40| 389039.42|   294295.98|\n",
       "|  Sub-Saharan Africa|      Chad|         Fruits|      Offline|             H| 8/16/2011|645713555| 8/31/2011|      9845|      9.33|     6.92|     91853.85|  68127.40|    23726.45|\n",
       "|              Europe|   Armenia|         Cereal|       Online|             H|11/24/2014|683458888|12/28/2014|      9528|    205.70|   117.11|   1959909.60|1115824.08|   844085.52|\n",
       "|  Sub-Saharan Africa|   Eritrea|         Cereal|       Online|             H|  3/4/2015|679414975| 4/17/2015|      2844|    205.70|   117.11|    585010.80| 333060.84|   251949.96|\n",
       "|              Europe|Montenegro|        Clothes|      Offline|             M| 5/17/2012|208630645| 6/28/2012|      7299|    109.28|    35.84|    797634.72| 261596.16|   536038.56|\n",
       "|Central America a...|   Jamaica|     Vegetables|       Online|             H| 1/29/2015|266467225|  3/7/2015|      2428|    154.06|    90.93|    374057.68| 220778.04|   153279.64|\n",
       "|Australia and Oce...|      Fiji|     Vegetables|      Offline|             H|12/24/2013|118598544| 1/19/2014|      4800|    154.06|    90.93|    739488.00| 436464.00|   303024.00|\n",
       "|  Sub-Saharan Africa|      Togo|        Clothes|       Online|             M|12/29/2015|451010930| 1/19/2016|      3012|    109.28|    35.84|    329151.36| 107950.08|   221201.28|\n",
       "|              Europe|Montenegro|         Snacks|      Offline|             M| 2/27/2010|220003211| 3/18/2010|      2694|    152.58|    97.44|    411050.52| 262503.36|   148547.16|\n",
       "|              Europe|    Greece|      Household|       Online|             C|11/17/2016|702186715|12/22/2016|      1508|    668.27|   502.54|   1007751.16| 757830.32|   249920.84|\n",
       "|  Sub-Saharan Africa|     Sudan|      Cosmetics|       Online|             C|12/20/2015|544485270|  1/5/2016|      4146|    437.20|   263.33|   1812631.20|1091766.18|   720865.02|\n",
       "|                Asia|  Maldives|         Fruits|      Offline|             L|  1/8/2011|714135205|  2/6/2011|      7332|      9.33|     6.92|     68407.56|  50737.44|    17670.12|\n",
       "|              Europe|Montenegro|        Clothes|      Offline|             H| 6/28/2010|448685348| 7/22/2010|      4820|    109.28|    35.84|    526729.60| 172748.80|   353980.80|\n",
       "|              Europe|   Estonia|Office Supplies|       Online|             H| 4/25/2016|405997025| 5/12/2016|      2397|    651.21|   524.96|   1560950.37|1258329.12|   302621.25|\n",
       "|       North America| Greenland|      Beverages|       Online|             M| 7/27/2012|414244067|  8/7/2012|      2880|     47.45|    31.79|    136656.00|  91555.20|    45100.80|\n",
       "|  Sub-Saharan Africa|Cape Verde|        Clothes|       Online|             C|  9/8/2014|821912801| 10/3/2014|      1117|    109.28|    35.84|    122065.76|  40033.28|    82032.48|\n",
       "|  Sub-Saharan Africa|   Senegal|      Household|      Offline|             L| 8/27/2012|247802054|  9/8/2012|      8989|    668.27|   502.54|   6007079.03|4517332.06|  1489746.97|\n",
       "+--------------------+----------+---------------+-------------+--------------+----------+---------+----------+----------+----------+---------+-------------+----------+------------+\n",
       "only showing top 20 rows"
      ]
     },
     "execution_count": 55,
     "metadata": {},
     "output_type": "execute_result"
    }
   ],
   "source": [
    "sales_dataframe = spark.read.csv(\"SalesRecords.csv\", header = True, sep = \",\")\n",
    "\n",
    "sales_dataframe"
   ]
  },
  {
   "cell_type": "markdown",
   "metadata": {
    "application/vnd.databricks.v1+cell": {
     "inputWidgets": {},
     "nuid": "7f1f69c7-d7e1-4215-9c35-964c1fb76f17",
     "showTitle": false,
     "title": ""
    }
   },
   "source": [
    "That looks better, right? To see the columns' datatypes, we can check its schema.\n",
    "\n",
    "# Schema\n",
    "\n",
    "It's possible to check a dataframe's schema by looking at its `dtypes`"
   ]
  },
  {
   "cell_type": "code",
   "execution_count": 56,
   "metadata": {
    "application/vnd.databricks.v1+cell": {
     "inputWidgets": {},
     "nuid": "db039d86-1b81-48f6-88f3-d6453b07fb8c",
     "showTitle": false,
     "title": ""
    }
   },
   "outputs": [
    {
     "data": {
      "text/plain": [
       "[('region', 'string'),\n",
       " ('country', 'string'),\n",
       " ('item_type', 'string'),\n",
       " ('sales_channel', 'string'),\n",
       " ('order_priority', 'string'),\n",
       " ('order_date', 'string'),\n",
       " ('order_id', 'string'),\n",
       " ('ship_date', 'string'),\n",
       " ('units_sold', 'string'),\n",
       " ('unit_price', 'string'),\n",
       " ('unit_cost', 'string'),\n",
       " ('total_revenue', 'string'),\n",
       " ('total_cost', 'string'),\n",
       " ('total_profit', 'string')]"
      ]
     },
     "execution_count": 56,
     "metadata": {},
     "output_type": "execute_result"
    }
   ],
   "source": [
    "sales_dataframe.dtypes"
   ]
  },
  {
   "cell_type": "markdown",
   "metadata": {
    "application/vnd.databricks.v1+cell": {
     "inputWidgets": {},
     "nuid": "db1ab4c4-75e8-473c-95fd-d93ecf9eac84",
     "showTitle": false,
     "title": ""
    }
   },
   "source": [
    "# Select\n",
    "\n",
    "We can use `select` to view a subset of the dataframe's columns.\n",
    "\n",
    "Docs:\n",
    "https://spark.apache.org/docs/latest/api/python/pyspark.sql.html#pyspark.sql.DataFrame.select"
   ]
  },
  {
   "cell_type": "code",
   "execution_count": 57,
   "metadata": {
    "application/vnd.databricks.v1+cell": {
     "inputWidgets": {},
     "nuid": "89397b51-26d1-4943-99ef-9fa809d45f1d",
     "showTitle": false,
     "title": ""
    }
   },
   "outputs": [
    {
     "data": {
      "text/html": [
       "<table border='1'>\n",
       "<tr><th>sales_channel</th><th>item_type</th></tr>\n",
       "<tr><td>Offline</td><td>Cosmetics</td></tr>\n",
       "<tr><td>Online</td><td>Vegetables</td></tr>\n",
       "<tr><td>Offline</td><td>Baby Food</td></tr>\n",
       "<tr><td>Offline</td><td>Cereal</td></tr>\n",
       "<tr><td>Offline</td><td>Fruits</td></tr>\n",
       "<tr><td>Online</td><td>Cereal</td></tr>\n",
       "<tr><td>Online</td><td>Cereal</td></tr>\n",
       "<tr><td>Offline</td><td>Clothes</td></tr>\n",
       "<tr><td>Online</td><td>Vegetables</td></tr>\n",
       "<tr><td>Offline</td><td>Vegetables</td></tr>\n",
       "<tr><td>Online</td><td>Clothes</td></tr>\n",
       "<tr><td>Offline</td><td>Snacks</td></tr>\n",
       "<tr><td>Online</td><td>Household</td></tr>\n",
       "<tr><td>Online</td><td>Cosmetics</td></tr>\n",
       "<tr><td>Offline</td><td>Fruits</td></tr>\n",
       "<tr><td>Offline</td><td>Clothes</td></tr>\n",
       "<tr><td>Online</td><td>Office Supplies</td></tr>\n",
       "<tr><td>Online</td><td>Beverages</td></tr>\n",
       "<tr><td>Online</td><td>Clothes</td></tr>\n",
       "<tr><td>Offline</td><td>Household</td></tr>\n",
       "</table>\n",
       "only showing top 20 rows\n"
      ],
      "text/plain": [
       "+-------------+---------------+\n",
       "|sales_channel|      item_type|\n",
       "+-------------+---------------+\n",
       "|      Offline|      Cosmetics|\n",
       "|       Online|     Vegetables|\n",
       "|      Offline|      Baby Food|\n",
       "|      Offline|         Cereal|\n",
       "|      Offline|         Fruits|\n",
       "|       Online|         Cereal|\n",
       "|       Online|         Cereal|\n",
       "|      Offline|        Clothes|\n",
       "|       Online|     Vegetables|\n",
       "|      Offline|     Vegetables|\n",
       "|       Online|        Clothes|\n",
       "|      Offline|         Snacks|\n",
       "|       Online|      Household|\n",
       "|       Online|      Cosmetics|\n",
       "|      Offline|         Fruits|\n",
       "|      Offline|        Clothes|\n",
       "|       Online|Office Supplies|\n",
       "|       Online|      Beverages|\n",
       "|       Online|        Clothes|\n",
       "|      Offline|      Household|\n",
       "+-------------+---------------+\n",
       "only showing top 20 rows"
      ]
     },
     "execution_count": 57,
     "metadata": {},
     "output_type": "execute_result"
    }
   ],
   "source": [
    "type_channel_dataframe = sales_dataframe.select('sales_channel', 'item_type')\n",
    "\n",
    "type_channel_dataframe"
   ]
  },
  {
   "cell_type": "markdown",
   "metadata": {
    "application/vnd.databricks.v1+cell": {
     "inputWidgets": {},
     "nuid": "0d44726b-5848-4230-96e5-b6a69b2382e2",
     "showTitle": false,
     "title": ""
    }
   },
   "source": [
    "# Warm-up exercise\n",
    "\n",
    "Create and display a dataframe with `order_id` and `order_date` from the sales dataframe"
   ]
  },
  {
   "cell_type": "code",
   "execution_count": 58,
   "metadata": {
    "application/vnd.databricks.v1+cell": {
     "inputWidgets": {},
     "nuid": "3cdaaeff-7689-4007-ba47-77ac827a0a07",
     "showTitle": false,
     "title": ""
    }
   },
   "outputs": [],
   "source": [
    "#TODO\n",
    "\n",
    "id_date_dataframe = None\n",
    "\n",
    "id_date_dataframe"
   ]
  },
  {
   "cell_type": "markdown",
   "metadata": {
    "application/vnd.databricks.v1+cell": {
     "inputWidgets": {},
     "nuid": "75530cc0-9cae-48e5-a885-1d8b3dddec0e",
     "showTitle": false,
     "title": ""
    }
   },
   "source": [
    "# selectExpr\n",
    "\n",
    "Similar to select, `selectExpr` allows expressions to be applied to the dataframe's column(s)\n",
    "\n",
    "Docs: https://spark.apache.org/docs/latest/api/python/pyspark.sql.html#pyspark.sql.DataFrame.selectExpr"
   ]
  },
  {
   "cell_type": "code",
   "execution_count": 59,
   "metadata": {
    "application/vnd.databricks.v1+cell": {
     "inputWidgets": {},
     "nuid": "436bb661-268c-411f-9c3e-135203a7583c",
     "showTitle": false,
     "title": ""
    }
   },
   "outputs": [
    {
     "data": {
      "text/html": [
       "<table border='1'>\n",
       "<tr><th>impressed_item_type</th></tr>\n",
       "<tr><td>Cosmetics, oh wow</td></tr>\n",
       "<tr><td>Vegetables, oh wow</td></tr>\n",
       "<tr><td>Baby Food, oh wow</td></tr>\n",
       "<tr><td>Cereal, oh wow</td></tr>\n",
       "<tr><td>Fruits, oh wow</td></tr>\n",
       "<tr><td>Cereal, oh wow</td></tr>\n",
       "<tr><td>Cereal, oh wow</td></tr>\n",
       "<tr><td>Clothes, oh wow</td></tr>\n",
       "<tr><td>Vegetables, oh wow</td></tr>\n",
       "<tr><td>Vegetables, oh wow</td></tr>\n",
       "<tr><td>Clothes, oh wow</td></tr>\n",
       "<tr><td>Snacks, oh wow</td></tr>\n",
       "<tr><td>Household, oh wow</td></tr>\n",
       "<tr><td>Cosmetics, oh wow</td></tr>\n",
       "<tr><td>Fruits, oh wow</td></tr>\n",
       "<tr><td>Clothes, oh wow</td></tr>\n",
       "<tr><td>Office Supplies, ...</td></tr>\n",
       "<tr><td>Beverages, oh wow</td></tr>\n",
       "<tr><td>Clothes, oh wow</td></tr>\n",
       "<tr><td>Household, oh wow</td></tr>\n",
       "</table>\n",
       "only showing top 20 rows\n"
      ],
      "text/plain": [
       "+--------------------+\n",
       "| impressed_item_type|\n",
       "+--------------------+\n",
       "|   Cosmetics, oh wow|\n",
       "|  Vegetables, oh wow|\n",
       "|   Baby Food, oh wow|\n",
       "|      Cereal, oh wow|\n",
       "|      Fruits, oh wow|\n",
       "|      Cereal, oh wow|\n",
       "|      Cereal, oh wow|\n",
       "|     Clothes, oh wow|\n",
       "|  Vegetables, oh wow|\n",
       "|  Vegetables, oh wow|\n",
       "|     Clothes, oh wow|\n",
       "|      Snacks, oh wow|\n",
       "|   Household, oh wow|\n",
       "|   Cosmetics, oh wow|\n",
       "|      Fruits, oh wow|\n",
       "|     Clothes, oh wow|\n",
       "|Office Supplies, ...|\n",
       "|   Beverages, oh wow|\n",
       "|     Clothes, oh wow|\n",
       "|   Household, oh wow|\n",
       "+--------------------+\n",
       "only showing top 20 rows"
      ]
     },
     "execution_count": 59,
     "metadata": {},
     "output_type": "execute_result"
    }
   ],
   "source": [
    "# Concatenates the value of item_type to a string\n",
    "\n",
    "impressed_dataframe = sales_dataframe.selectExpr(\"concat(item_type, ', oh wow') as impressed_item_type\")\n",
    "\n",
    "impressed_dataframe"
   ]
  },
  {
   "cell_type": "markdown",
   "metadata": {
    "application/vnd.databricks.v1+cell": {
     "inputWidgets": {},
     "nuid": "68af566a-2e64-447e-81ea-19621aecdd48",
     "showTitle": false,
     "title": ""
    }
   },
   "source": [
    "# Casting\n",
    "\n",
    "Since our dataframe was generated from a text file, all it's columns have string type by default. We can use `selectExpr` to cast them to more appropriate types."
   ]
  },
  {
   "cell_type": "code",
   "execution_count": 60,
   "metadata": {
    "application/vnd.databricks.v1+cell": {
     "inputWidgets": {},
     "nuid": "ef81f4bb-91f0-4c1d-9cd7-975b09ccf1a6",
     "showTitle": false,
     "title": ""
    }
   },
   "outputs": [
    {
     "data": {
      "text/plain": [
       "[('region', 'string'),\n",
       " ('country', 'string'),\n",
       " ('item_type', 'string'),\n",
       " ('sales_channel', 'string'),\n",
       " ('order_priority', 'string'),\n",
       " ('order_date', 'date'),\n",
       " ('order_id', 'string'),\n",
       " ('ship_date', 'date'),\n",
       " ('units_sold', 'int'),\n",
       " ('unit_price', 'double'),\n",
       " ('unit_cost', 'double'),\n",
       " ('total_revenue', 'double'),\n",
       " ('total_cost', 'double'),\n",
       " ('total_profit', 'double')]"
      ]
     },
     "execution_count": 60,
     "metadata": {},
     "output_type": "execute_result"
    }
   ],
   "source": [
    "# Selects and casts columns from sales_dataframe\n",
    "\n",
    "sales_dataframe = sales_dataframe.selectExpr(\"region\",\n",
    "                                                \"country\",\n",
    "                                                \"item_type\",\n",
    "                                                \"sales_channel\",\n",
    "                                                \"order_priority\",\n",
    "                                                \"to_date(order_date, 'MM/dd/yyyy') as order_date\", \n",
    "                                                \"order_id\",\"to_date(ship_date, 'MM/dd/yyyy') as ship_date\",\n",
    "                                                \"cast(units_sold as integer) as units_sold\",\n",
    "                                                \"cast(unit_price as double) as unit_price\", \n",
    "                                                \"cast(unit_cost as double) as unit_cost\", \n",
    "                                                \"cast(total_revenue as double) as total_revenue\", \n",
    "                                                \"cast(total_cost as double) as total_cost\",\n",
    "                                                \"cast(total_profit as double) as total_profit\")\n",
    "\n",
    "# Prints result schema\n",
    "\n",
    "sales_dataframe.dtypes"
   ]
  },
  {
   "cell_type": "markdown",
   "metadata": {
    "application/vnd.databricks.v1+cell": {
     "inputWidgets": {},
     "nuid": "ec4618ac-3312-4bf9-801a-5cd486acfd4b",
     "showTitle": false,
     "title": ""
    }
   },
   "source": [
    "# Exercise 1\n",
    "\n",
    "Build and show a dataframe with `unit_price` in cents instead of euros"
   ]
  },
  {
   "cell_type": "code",
   "execution_count": 61,
   "metadata": {
    "application/vnd.databricks.v1+cell": {
     "inputWidgets": {},
     "nuid": "2806aeaf-04f3-405b-a058-c57f74e235a2",
     "showTitle": false,
     "title": ""
    }
   },
   "outputs": [],
   "source": [
    "# TODO\n",
    "\n",
    "cents_dataframe = None\n",
    "\n",
    "cents_dataframe"
   ]
  },
  {
   "cell_type": "markdown",
   "metadata": {
    "application/vnd.databricks.v1+cell": {
     "inputWidgets": {},
     "nuid": "ef6d0125-1470-44d2-ad0b-28ee4b2538b5",
     "showTitle": false,
     "title": ""
    }
   },
   "source": [
    "# Exercise 1.1\n",
    "\n",
    "Solve the previous exercise by creating a function that gets a dataframe, transforms it and returns the transformed dataframe.\n",
    "\n",
    "More on Python functions: https://www.w3schools.com/python/python_functions.asp"
   ]
  },
  {
   "cell_type": "code",
   "execution_count": 63,
   "metadata": {
    "application/vnd.databricks.v1+cell": {
     "inputWidgets": {},
     "nuid": "aaa11e7a-6d98-4efe-91a5-b1e67f6d93f6",
     "showTitle": false,
     "title": ""
    }
   },
   "outputs": [],
   "source": [
    "# TODO\n",
    "\n",
    "def get_cents(df):\n",
    "  return None\n",
    "\n",
    "get_cents(sales_dataframe)"
   ]
  },
  {
   "cell_type": "markdown",
   "metadata": {
    "application/vnd.databricks.v1+cell": {
     "inputWidgets": {},
     "nuid": "3267702b-8d9e-4cd0-abe6-11fdb140c250",
     "showTitle": false,
     "title": ""
    }
   },
   "source": [
    "# Filter\n",
    "\n",
    "`filter` can be used to conditionally display rows from your dataframe. `where` can be used as an alias.\n",
    "\n",
    "Docs: https://spark.apache.org/docs/latest/api/python/pyspark.sql.html#pyspark.sql.DataFrame.filter"
   ]
  },
  {
   "cell_type": "code",
   "execution_count": 64,
   "metadata": {
    "application/vnd.databricks.v1+cell": {
     "inputWidgets": {},
     "nuid": "e430a82c-7582-4718-904c-94f1d8678792",
     "showTitle": false,
     "title": ""
    }
   },
   "outputs": [
    {
     "data": {
      "text/html": [
       "<table border='1'>\n",
       "<tr><th>region</th><th>country</th><th>item_type</th><th>sales_channel</th><th>order_priority</th><th>order_date</th><th>order_id</th><th>ship_date</th><th>units_sold</th><th>unit_price</th><th>unit_cost</th><th>total_revenue</th><th>total_cost</th><th>total_profit</th></tr>\n",
       "<tr><td>Middle East and N...</td><td>Libya</td><td>Cosmetics</td><td>Offline</td><td>M</td><td>2014-10-18</td><td>686800706</td><td>2014-10-31</td><td>8446</td><td>437.2</td><td>263.33</td><td>3692591.2</td><td>2224085.18</td><td>1468506.02</td></tr>\n",
       "<tr><td>Middle East and N...</td><td>Libya</td><td>Baby Food</td><td>Offline</td><td>C</td><td>2016-10-31</td><td>246222341</td><td>2016-12-09</td><td>1517</td><td>255.28</td><td>159.42</td><td>387259.76</td><td>241840.14</td><td>145419.62</td></tr>\n",
       "<tr><td>Middle East and N...</td><td>Libya</td><td>Cereal</td><td>Offline</td><td>M</td><td>2014-03-27</td><td>964214932</td><td>2014-03-31</td><td>1480</td><td>205.7</td><td>117.11</td><td>304436.0</td><td>173322.8</td><td>131113.2</td></tr>\n",
       "<tr><td>Middle East and N...</td><td>Libya</td><td>Baby Food</td><td>Offline</td><td>M</td><td>2016-12-10</td><td>635122907</td><td>2016-12-13</td><td>5837</td><td>255.28</td><td>159.42</td><td>1490069.36</td><td>930534.54</td><td>559534.82</td></tr>\n",
       "<tr><td>Middle East and N...</td><td>Libya</td><td>Vegetables</td><td>Online</td><td>C</td><td>2015-01-02</td><td>276225316</td><td>2015-02-09</td><td>64</td><td>154.06</td><td>90.93</td><td>9859.84</td><td>5819.52</td><td>4040.32</td></tr>\n",
       "<tr><td>Middle East and N...</td><td>Libya</td><td>Beverages</td><td>Offline</td><td>H</td><td>2011-02-04</td><td>854095017</td><td>2011-03-04</td><td>4550</td><td>47.45</td><td>31.79</td><td>215897.5</td><td>144644.5</td><td>71253.0</td></tr>\n",
       "</table>\n"
      ],
      "text/plain": [
       "+--------------------+-------+----------+-------------+--------------+----------+---------+----------+----------+----------+---------+-------------+----------+------------+\n",
       "|              region|country| item_type|sales_channel|order_priority|order_date| order_id| ship_date|units_sold|unit_price|unit_cost|total_revenue|total_cost|total_profit|\n",
       "+--------------------+-------+----------+-------------+--------------+----------+---------+----------+----------+----------+---------+-------------+----------+------------+\n",
       "|Middle East and N...|  Libya| Cosmetics|      Offline|             M|2014-10-18|686800706|2014-10-31|      8446|     437.2|   263.33|    3692591.2|2224085.18|  1468506.02|\n",
       "|Middle East and N...|  Libya| Baby Food|      Offline|             C|2016-10-31|246222341|2016-12-09|      1517|    255.28|   159.42|    387259.76| 241840.14|   145419.62|\n",
       "|Middle East and N...|  Libya|    Cereal|      Offline|             M|2014-03-27|964214932|2014-03-31|      1480|     205.7|   117.11|     304436.0|  173322.8|    131113.2|\n",
       "|Middle East and N...|  Libya| Baby Food|      Offline|             M|2016-12-10|635122907|2016-12-13|      5837|    255.28|   159.42|   1490069.36| 930534.54|   559534.82|\n",
       "|Middle East and N...|  Libya|Vegetables|       Online|             C|2015-01-02|276225316|2015-02-09|        64|    154.06|    90.93|      9859.84|   5819.52|     4040.32|\n",
       "|Middle East and N...|  Libya| Beverages|      Offline|             H|2011-02-04|854095017|2011-03-04|      4550|     47.45|    31.79|     215897.5|  144644.5|     71253.0|\n",
       "+--------------------+-------+----------+-------------+--------------+----------+---------+----------+----------+----------+---------+-------------+----------+------------+"
      ]
     },
     "execution_count": 64,
     "metadata": {},
     "output_type": "execute_result"
    }
   ],
   "source": [
    "# Shows orders where country is Libya\n",
    "\n",
    "libya_dataframe = sales_dataframe.filter('Country = \"Libya\"')\n",
    "\n",
    "libya_dataframe"
   ]
  },
  {
   "cell_type": "markdown",
   "metadata": {
    "application/vnd.databricks.v1+cell": {
     "inputWidgets": {},
     "nuid": "fced0866-fde9-4fbb-a4be-d9d4d41db2a6",
     "showTitle": false,
     "title": ""
    }
   },
   "source": [
    "# Exercise 2\n",
    "\n",
    "Build and show a dataframe with orders where the unit cost is 50% or less than the unit price.\n",
    "(Remember that generated dataframes can be assigned to variables and transformations can be chained)"
   ]
  },
  {
   "cell_type": "code",
   "execution_count": 65,
   "metadata": {
    "application/vnd.databricks.v1+cell": {
     "inputWidgets": {},
     "nuid": "9729a8d6-5964-48d2-85e8-01b9af1d752a",
     "showTitle": false,
     "title": ""
    }
   },
   "outputs": [],
   "source": [
    "# TODO\n",
    "\n",
    "low_cost_dataframe = None\n",
    "\n",
    "low_cost_dataframe"
   ]
  },
  {
   "cell_type": "markdown",
   "metadata": {
    "application/vnd.databricks.v1+cell": {
     "inputWidgets": {},
     "nuid": "ce0a8fb9-b24a-4ead-8102-3f4e8b77919d",
     "showTitle": false,
     "title": ""
    }
   },
   "source": [
    "# Exercise 2.1\n",
    "\n",
    "Get the first 5 rows of your `low_cost_dataframe` using `take` and `print` them.\n",
    "\n",
    "More on for loops: https://www.w3schools.com/python/python_for_loops.asp"
   ]
  },
  {
   "cell_type": "code",
   "execution_count": 66,
   "metadata": {
    "application/vnd.databricks.v1+cell": {
     "inputWidgets": {},
     "nuid": "97287b1c-4e31-4dbd-abaf-c994ac185261",
     "showTitle": false,
     "title": ""
    }
   },
   "outputs": [],
   "source": [
    "# TODO\n",
    "\n",
    "low_cost_5_rows = None\n"
   ]
  },
  {
   "cell_type": "markdown",
   "metadata": {
    "application/vnd.databricks.v1+cell": {
     "inputWidgets": {},
     "nuid": "3fe9dfea-1bb9-4f78-a29f-4075d3452a6f",
     "showTitle": false,
     "title": ""
    }
   },
   "source": [
    "# groupBy\n",
    "\n",
    "Like in sql, spark also allows you to group by one or more columns to generate aggregations.\n",
    "\n",
    "Docs: https://spark.apache.org/docs/1.6.0/api/R/groupBy.html"
   ]
  },
  {
   "cell_type": "code",
   "execution_count": 67,
   "metadata": {
    "application/vnd.databricks.v1+cell": {
     "inputWidgets": {},
     "nuid": "5368200f-59b5-4493-b9b3-9a145c6c8aba",
     "showTitle": false,
     "title": ""
    }
   },
   "outputs": [
    {
     "data": {
      "text/html": [
       "<table border='1'>\n",
       "<tr><th>sales_channel</th><th>max(units_sold)</th></tr>\n",
       "<tr><td>Online</td><td>9998</td></tr>\n",
       "<tr><td>Offline</td><td>9980</td></tr>\n",
       "</table>\n"
      ],
      "text/plain": [
       "+-------------+---------------+\n",
       "|sales_channel|max(units_sold)|\n",
       "+-------------+---------------+\n",
       "|       Online|           9998|\n",
       "|      Offline|           9980|\n",
       "+-------------+---------------+"
      ]
     },
     "execution_count": 67,
     "metadata": {},
     "output_type": "execute_result"
    }
   ],
   "source": [
    "max_unit_per_channel = sales_dataframe.groupBy('sales_channel').max('units_sold')\n",
    "\n",
    "max_unit_per_channel"
   ]
  },
  {
   "cell_type": "markdown",
   "metadata": {
    "application/vnd.databricks.v1+cell": {
     "inputWidgets": {},
     "nuid": "1c31600e-64c8-4bee-943a-4b362c644274",
     "showTitle": false,
     "title": ""
    }
   },
   "source": [
    "# Exercise 3\n",
    "\n",
    "Build and show a dataframe with an average of unit price per item type\n",
    "\n",
    "Note: You can find the list of available aggregation functions here https://spark.apache.org/docs/latest/api/java/org/apache/spark/sql/functions.html"
   ]
  },
  {
   "cell_type": "code",
   "execution_count": 68,
   "metadata": {
    "application/vnd.databricks.v1+cell": {
     "inputWidgets": {},
     "nuid": "05de42d6-8a84-4fe3-87f3-b71a5949fd4d",
     "showTitle": false,
     "title": ""
    }
   },
   "outputs": [],
   "source": [
    "# TODO\n",
    "\n",
    "average_unit_price_dataframe = None\n",
    "\n",
    "average_unit_price_dataframe"
   ]
  },
  {
   "cell_type": "markdown",
   "metadata": {
    "application/vnd.databricks.v1+cell": {
     "inputWidgets": {},
     "nuid": "f57e174f-0789-4fdf-8bb5-65925fa2dc83",
     "showTitle": false,
     "title": ""
    }
   },
   "source": [
    "# Exercise 3.3\n",
    "\n",
    "Create a list of the output dataframe of Exercises 1 to 3 and print the `count` (number of rows) of each one\n",
    "\n",
    "More on python lists: https://www.w3schools.com/python/python_lists.asp"
   ]
  },
  {
   "cell_type": "code",
   "execution_count": 69,
   "metadata": {
    "application/vnd.databricks.v1+cell": {
     "inputWidgets": {},
     "nuid": "4c7e2e82-b29a-4bb8-aa70-d67464ed2261",
     "showTitle": false,
     "title": ""
    }
   },
   "outputs": [],
   "source": [
    "# TODO\n",
    "\n",
    "df_list = None\n"
   ]
  },
  {
   "cell_type": "markdown",
   "metadata": {
    "application/vnd.databricks.v1+cell": {
     "inputWidgets": {},
     "nuid": "85f17c43-b541-4afb-b5e9-2cfad45e0d9c",
     "showTitle": false,
     "title": ""
    }
   },
   "source": [
    "# Temporary tables\n",
    "\n",
    "It is possible to register a dataframe as a temporary table and run SQL queries on top of it. For that, we first need to register the dataframe as a temp table"
   ]
  },
  {
   "cell_type": "code",
   "execution_count": 70,
   "metadata": {
    "application/vnd.databricks.v1+cell": {
     "inputWidgets": {},
     "nuid": "b4c65469-6489-41cc-bc3e-20cf4dff213a",
     "showTitle": false,
     "title": ""
    }
   },
   "outputs": [],
   "source": [
    "sales_dataframe.registerTempTable('sales')"
   ]
  },
  {
   "cell_type": "markdown",
   "metadata": {
    "application/vnd.databricks.v1+cell": {
     "inputWidgets": {},
     "nuid": "2cc1fb5e-1191-4efe-b771-2494d6eca243",
     "showTitle": false,
     "title": ""
    }
   },
   "source": [
    "# Sql\n",
    "\n",
    "We can now run SQL queries on top of our dataframe."
   ]
  },
  {
   "cell_type": "code",
   "execution_count": 72,
   "metadata": {
    "application/vnd.databricks.v1+cell": {
     "inputWidgets": {},
     "nuid": "9fe377cc-41a4-40ef-a855-5424688f299c",
     "showTitle": false,
     "title": ""
    }
   },
   "outputs": [
    {
     "data": {
      "text/html": [
       "<table border='1'>\n",
       "<tr><th>region</th><th>country</th><th>item_type</th><th>sales_channel</th><th>order_priority</th><th>order_date</th><th>order_id</th><th>ship_date</th><th>units_sold</th><th>unit_price</th><th>unit_cost</th><th>total_revenue</th><th>total_cost</th><th>total_profit</th></tr>\n",
       "<tr><td>Middle East and N...</td><td>Libya</td><td>Cosmetics</td><td>Offline</td><td>M</td><td>2014-10-18</td><td>686800706</td><td>2014-10-31</td><td>8446</td><td>437.2</td><td>263.33</td><td>3692591.2</td><td>2224085.18</td><td>1468506.02</td></tr>\n",
       "<tr><td>North America</td><td>Canada</td><td>Vegetables</td><td>Online</td><td>M</td><td>2011-11-07</td><td>185941302</td><td>2011-12-08</td><td>3018</td><td>154.06</td><td>90.93</td><td>464953.08</td><td>274426.74</td><td>190526.34</td></tr>\n",
       "<tr><td>Middle East and N...</td><td>Libya</td><td>Baby Food</td><td>Offline</td><td>C</td><td>2016-10-31</td><td>246222341</td><td>2016-12-09</td><td>1517</td><td>255.28</td><td>159.42</td><td>387259.76</td><td>241840.14</td><td>145419.62</td></tr>\n",
       "<tr><td>Asia</td><td>Japan</td><td>Cereal</td><td>Offline</td><td>C</td><td>2010-04-10</td><td>161442649</td><td>2010-05-12</td><td>3322</td><td>205.7</td><td>117.11</td><td>683335.4</td><td>389039.42</td><td>294295.98</td></tr>\n",
       "<tr><td>Sub-Saharan Africa</td><td>Chad</td><td>Fruits</td><td>Offline</td><td>H</td><td>2011-08-16</td><td>645713555</td><td>2011-08-31</td><td>9845</td><td>9.33</td><td>6.92</td><td>91853.85</td><td>68127.4</td><td>23726.45</td></tr>\n",
       "<tr><td>Europe</td><td>Armenia</td><td>Cereal</td><td>Online</td><td>H</td><td>2014-11-24</td><td>683458888</td><td>2014-12-28</td><td>9528</td><td>205.7</td><td>117.11</td><td>1959909.6</td><td>1115824.08</td><td>844085.52</td></tr>\n",
       "<tr><td>Sub-Saharan Africa</td><td>Eritrea</td><td>Cereal</td><td>Online</td><td>H</td><td>2015-03-04</td><td>679414975</td><td>2015-04-17</td><td>2844</td><td>205.7</td><td>117.11</td><td>585010.8</td><td>333060.84</td><td>251949.96</td></tr>\n",
       "<tr><td>Europe</td><td>Montenegro</td><td>Clothes</td><td>Offline</td><td>M</td><td>2012-05-17</td><td>208630645</td><td>2012-06-28</td><td>7299</td><td>109.28</td><td>35.84</td><td>797634.72</td><td>261596.16</td><td>536038.56</td></tr>\n",
       "<tr><td>Central America a...</td><td>Jamaica</td><td>Vegetables</td><td>Online</td><td>H</td><td>2015-01-29</td><td>266467225</td><td>2015-03-07</td><td>2428</td><td>154.06</td><td>90.93</td><td>374057.68</td><td>220778.04</td><td>153279.64</td></tr>\n",
       "<tr><td>Australia and Oce...</td><td>Fiji</td><td>Vegetables</td><td>Offline</td><td>H</td><td>2013-12-24</td><td>118598544</td><td>2014-01-19</td><td>4800</td><td>154.06</td><td>90.93</td><td>739488.0</td><td>436464.0</td><td>303024.0</td></tr>\n",
       "<tr><td>Sub-Saharan Africa</td><td>Togo</td><td>Clothes</td><td>Online</td><td>M</td><td>2015-12-29</td><td>451010930</td><td>2016-01-19</td><td>3012</td><td>109.28</td><td>35.84</td><td>329151.36</td><td>107950.08</td><td>221201.28</td></tr>\n",
       "<tr><td>Europe</td><td>Montenegro</td><td>Snacks</td><td>Offline</td><td>M</td><td>2010-02-27</td><td>220003211</td><td>2010-03-18</td><td>2694</td><td>152.58</td><td>97.44</td><td>411050.52</td><td>262503.36</td><td>148547.16</td></tr>\n",
       "<tr><td>Europe</td><td>Greece</td><td>Household</td><td>Online</td><td>C</td><td>2016-11-17</td><td>702186715</td><td>2016-12-22</td><td>1508</td><td>668.27</td><td>502.54</td><td>1007751.16</td><td>757830.32</td><td>249920.84</td></tr>\n",
       "<tr><td>Sub-Saharan Africa</td><td>Sudan</td><td>Cosmetics</td><td>Online</td><td>C</td><td>2015-12-20</td><td>544485270</td><td>2016-01-05</td><td>4146</td><td>437.2</td><td>263.33</td><td>1812631.2</td><td>1091766.18</td><td>720865.02</td></tr>\n",
       "<tr><td>Asia</td><td>Maldives</td><td>Fruits</td><td>Offline</td><td>L</td><td>2011-01-08</td><td>714135205</td><td>2011-02-06</td><td>7332</td><td>9.33</td><td>6.92</td><td>68407.56</td><td>50737.44</td><td>17670.12</td></tr>\n",
       "<tr><td>Europe</td><td>Montenegro</td><td>Clothes</td><td>Offline</td><td>H</td><td>2010-06-28</td><td>448685348</td><td>2010-07-22</td><td>4820</td><td>109.28</td><td>35.84</td><td>526729.6</td><td>172748.8</td><td>353980.8</td></tr>\n",
       "<tr><td>Europe</td><td>Estonia</td><td>Office Supplies</td><td>Online</td><td>H</td><td>2016-04-25</td><td>405997025</td><td>2016-05-12</td><td>2397</td><td>651.21</td><td>524.96</td><td>1560950.37</td><td>1258329.12</td><td>302621.25</td></tr>\n",
       "<tr><td>North America</td><td>Greenland</td><td>Beverages</td><td>Online</td><td>M</td><td>2012-07-27</td><td>414244067</td><td>2012-08-07</td><td>2880</td><td>47.45</td><td>31.79</td><td>136656.0</td><td>91555.2</td><td>45100.8</td></tr>\n",
       "<tr><td>Sub-Saharan Africa</td><td>Cape Verde</td><td>Clothes</td><td>Online</td><td>C</td><td>2014-09-08</td><td>821912801</td><td>2014-10-03</td><td>1117</td><td>109.28</td><td>35.84</td><td>122065.76</td><td>40033.28</td><td>82032.48</td></tr>\n",
       "<tr><td>Sub-Saharan Africa</td><td>Senegal</td><td>Household</td><td>Offline</td><td>L</td><td>2012-08-27</td><td>247802054</td><td>2012-09-08</td><td>8989</td><td>668.27</td><td>502.54</td><td>6007079.03</td><td>4517332.06</td><td>1489746.97</td></tr>\n",
       "</table>\n",
       "only showing top 20 rows\n"
      ],
      "text/plain": [
       "+--------------------+----------+---------------+-------------+--------------+----------+---------+----------+----------+----------+---------+-------------+----------+------------+\n",
       "|              region|   country|      item_type|sales_channel|order_priority|order_date| order_id| ship_date|units_sold|unit_price|unit_cost|total_revenue|total_cost|total_profit|\n",
       "+--------------------+----------+---------------+-------------+--------------+----------+---------+----------+----------+----------+---------+-------------+----------+------------+\n",
       "|Middle East and N...|     Libya|      Cosmetics|      Offline|             M|2014-10-18|686800706|2014-10-31|      8446|     437.2|   263.33|    3692591.2|2224085.18|  1468506.02|\n",
       "|       North America|    Canada|     Vegetables|       Online|             M|2011-11-07|185941302|2011-12-08|      3018|    154.06|    90.93|    464953.08| 274426.74|   190526.34|\n",
       "|Middle East and N...|     Libya|      Baby Food|      Offline|             C|2016-10-31|246222341|2016-12-09|      1517|    255.28|   159.42|    387259.76| 241840.14|   145419.62|\n",
       "|                Asia|     Japan|         Cereal|      Offline|             C|2010-04-10|161442649|2010-05-12|      3322|     205.7|   117.11|     683335.4| 389039.42|   294295.98|\n",
       "|  Sub-Saharan Africa|      Chad|         Fruits|      Offline|             H|2011-08-16|645713555|2011-08-31|      9845|      9.33|     6.92|     91853.85|   68127.4|    23726.45|\n",
       "|              Europe|   Armenia|         Cereal|       Online|             H|2014-11-24|683458888|2014-12-28|      9528|     205.7|   117.11|    1959909.6|1115824.08|   844085.52|\n",
       "|  Sub-Saharan Africa|   Eritrea|         Cereal|       Online|             H|2015-03-04|679414975|2015-04-17|      2844|     205.7|   117.11|     585010.8| 333060.84|   251949.96|\n",
       "|              Europe|Montenegro|        Clothes|      Offline|             M|2012-05-17|208630645|2012-06-28|      7299|    109.28|    35.84|    797634.72| 261596.16|   536038.56|\n",
       "|Central America a...|   Jamaica|     Vegetables|       Online|             H|2015-01-29|266467225|2015-03-07|      2428|    154.06|    90.93|    374057.68| 220778.04|   153279.64|\n",
       "|Australia and Oce...|      Fiji|     Vegetables|      Offline|             H|2013-12-24|118598544|2014-01-19|      4800|    154.06|    90.93|     739488.0|  436464.0|    303024.0|\n",
       "|  Sub-Saharan Africa|      Togo|        Clothes|       Online|             M|2015-12-29|451010930|2016-01-19|      3012|    109.28|    35.84|    329151.36| 107950.08|   221201.28|\n",
       "|              Europe|Montenegro|         Snacks|      Offline|             M|2010-02-27|220003211|2010-03-18|      2694|    152.58|    97.44|    411050.52| 262503.36|   148547.16|\n",
       "|              Europe|    Greece|      Household|       Online|             C|2016-11-17|702186715|2016-12-22|      1508|    668.27|   502.54|   1007751.16| 757830.32|   249920.84|\n",
       "|  Sub-Saharan Africa|     Sudan|      Cosmetics|       Online|             C|2015-12-20|544485270|2016-01-05|      4146|     437.2|   263.33|    1812631.2|1091766.18|   720865.02|\n",
       "|                Asia|  Maldives|         Fruits|      Offline|             L|2011-01-08|714135205|2011-02-06|      7332|      9.33|     6.92|     68407.56|  50737.44|    17670.12|\n",
       "|              Europe|Montenegro|        Clothes|      Offline|             H|2010-06-28|448685348|2010-07-22|      4820|    109.28|    35.84|     526729.6|  172748.8|    353980.8|\n",
       "|              Europe|   Estonia|Office Supplies|       Online|             H|2016-04-25|405997025|2016-05-12|      2397|    651.21|   524.96|   1560950.37|1258329.12|   302621.25|\n",
       "|       North America| Greenland|      Beverages|       Online|             M|2012-07-27|414244067|2012-08-07|      2880|     47.45|    31.79|     136656.0|   91555.2|     45100.8|\n",
       "|  Sub-Saharan Africa|Cape Verde|        Clothes|       Online|             C|2014-09-08|821912801|2014-10-03|      1117|    109.28|    35.84|    122065.76|  40033.28|    82032.48|\n",
       "|  Sub-Saharan Africa|   Senegal|      Household|      Offline|             L|2012-08-27|247802054|2012-09-08|      8989|    668.27|   502.54|   6007079.03|4517332.06|  1489746.97|\n",
       "+--------------------+----------+---------------+-------------+--------------+----------+---------+----------+----------+----------+---------+-------------+----------+------------+\n",
       "only showing top 20 rows"
      ]
     },
     "execution_count": 72,
     "metadata": {},
     "output_type": "execute_result"
    }
   ],
   "source": [
    "spark.sql(\"select * from sales\")"
   ]
  },
  {
   "cell_type": "markdown",
   "metadata": {
    "application/vnd.databricks.v1+cell": {
     "inputWidgets": {},
     "nuid": "f6aee331-c9b9-411c-bc11-36497d5faba5",
     "showTitle": false,
     "title": ""
    }
   },
   "source": [
    "# Exercise 4\n",
    "\n",
    "Using sql, display the total number of units sold for each of the available item types."
   ]
  },
  {
   "cell_type": "code",
   "execution_count": 76,
   "metadata": {
    "application/vnd.databricks.v1+cell": {
     "inputWidgets": {},
     "nuid": "8a694b41-54a2-4c89-a4bd-88cef79f484c",
     "showTitle": false,
     "title": ""
    }
   },
   "outputs": [],
   "source": [
    "\n",
    "# TODO\n",
    "\n",
    "# spark.sql()"
   ]
  },
  {
   "cell_type": "markdown",
   "metadata": {
    "application/vnd.databricks.v1+cell": {
     "inputWidgets": {},
     "nuid": "81b42520-3e07-464f-b280-39ecc7b89164",
     "showTitle": false,
     "title": ""
    }
   },
   "source": [
    "# Bonus Challenges\n",
    "\n",
    "To make sure no one gets bored, here's a few extra exercises. Don't hesitate to reach out if you have questions.\n",
    "\n",
    "#### Bonus challenge 1\n",
    "\n",
    "Solve `Exercise 4` using only Spark dataframes"
   ]
  },
  {
   "cell_type": "code",
   "execution_count": 77,
   "metadata": {
    "application/vnd.databricks.v1+cell": {
     "inputWidgets": {},
     "nuid": "fbfdb038-3afa-4772-ba26-f3c25640f077",
     "showTitle": false,
     "title": ""
    }
   },
   "outputs": [],
   "source": [
    "# TODO\n",
    "\n",
    "units_per_type = None\n",
    "\n",
    "units_per_type"
   ]
  },
  {
   "cell_type": "markdown",
   "metadata": {
    "application/vnd.databricks.v1+cell": {
     "inputWidgets": {},
     "nuid": "3518fa36-229c-4266-aeb1-114801ec5161",
     "showTitle": false,
     "title": ""
    }
   },
   "source": [
    "#### Bonus Challenge 2\n",
    "\n",
    "Create and display a dataframe that adds a random number each order's total profit. You know.. for fun.\n",
    "Display the updated profit and its order id.\n",
    "\n",
    "(There is no need to generate a new random number for each row)\n",
    "\n",
    "##### Tip\n",
    "\n",
    "`selectExpr` and `spark.sql` might be helpful for this one"
   ]
  },
  {
   "cell_type": "code",
   "execution_count": 78,
   "metadata": {
    "application/vnd.databricks.v1+cell": {
     "inputWidgets": {},
     "nuid": "c72b07c4-2b8a-42c5-ada2-4c5fcc3f31eb",
     "showTitle": false,
     "title": ""
    }
   },
   "outputs": [],
   "source": [
    "from random import randint\n",
    "\n",
    "random_number = randint(0, 100)\n",
    "\n",
    "# TODO\n",
    "\n",
    "more_profit_dataframe = None\n",
    "\n",
    "more_profit_dataframe"
   ]
  },
  {
   "cell_type": "markdown",
   "metadata": {
    "application/vnd.databricks.v1+cell": {
     "inputWidgets": {},
     "nuid": "d29dd76d-5e1f-458e-bead-6219a10551c0",
     "showTitle": false,
     "title": ""
    }
   },
   "source": [
    "#### Bonus Challenge 3\n",
    "\n",
    "Let's play with udf's, shall we? This time, add the random number, but a different random number for each row. *BOOM*\n",
    "\n",
    "You might need the help of a udf for that: https://databricks.com/blog/2017/10/30/introducing-vectorized-udfs-for-pyspark.html"
   ]
  },
  {
   "cell_type": "code",
   "execution_count": null,
   "metadata": {
    "application/vnd.databricks.v1+cell": {
     "inputWidgets": {},
     "nuid": "bece2b9c-3449-4a56-bca0-dc3d3b2156c4",
     "showTitle": false,
     "title": ""
    }
   },
   "outputs": [
    {
     "data": {
      "image/png": "[encoded data removed]"
     },
     "metadata": {
      "application/vnd.databricks.v1+output": {
       "addedWidgets": {},
       "arguments": {},
       "data": "data:image/png;base64,iVBORw0KGgoAAAANSUhEUgAAAoAAAAHgCAYAAAA10dzkAAAABHNCSVQICAgIfAhkiAAAAAlwSFlzAAAPYQAAD2EBqD+naQAAADl0RVh0U29mdHdhcmUAbWF0cGxvdGxpYiB2ZXJzaW9uIDMuMC4zLCBodHRwOi8vbWF0cGxvdGxpYi5vcmcvnQurowAACMlJREFUeJzt1jEBACAMwDDAv+fhAo4mCnp2z8wCAKDj/A4AAOAtAwgAEGMAAQBiDCAAQIwBBACIMYAAADEGEAAgxgACAMQYQACAGAMIABBjAAEAYgwgAECMAQQAiDGAAAAxBhAAIMYAAgDEGEAAgBgDCAAQYwABAGIMIABAjAEEAIgxgAAAMQYQACDGAAIAxBhAAIAYAwgAEGMAAQBiDCAAQIwBBACIMYAAADEGEAAgxgACAMQYQACAGAMIABBjAAEAYgwgAECMAQQAiDGAAAAxBhAAIMYAAgDEGEAAgBgDCAAQYwABAGIMIABAjAEEAIgxgAAAMQYQACDGAAIAxBhAAIAYAwgAEGMAAQBiDCAAQIwBBACIMYAAADEGEAAgxgACAMQYQACAGAMIABBjAAEAYgwgAECMAQQAiDGAAAAxBhAAIMYAAgDEGEAAgBgDCAAQYwABAGIMIABAjAEEAIgxgAAAMQYQACDGAAIAxBhAAIAYAwgAEGMAAQBiDCAAQIwBBACIMYAAADEGEAAgxgACAMQYQACAGAMIABBjAAEAYgwgAECMAQQAiDGAAAAxBhAAIMYAAgDEGEAAgBgDCAAQYwABAGIMIABAjAEEAIgxgAAAMQYQACDGAAIAxBhAAIAYAwgAEGMAAQBiDCAAQIwBBACIMYAAADEGEAAgxgACAMQYQACAGAMIABBjAAEAYgwgAECMAQQAiDGAAAAxBhAAIMYAAgDEGEAAgBgDCAAQYwABAGIMIABAjAEEAIgxgAAAMQYQACDGAAIAxBhAAIAYAwgAEGMAAQBiDCAAQIwBBACIMYAAADEGEAAgxgACAMQYQACAGAMIABBjAAEAYgwgAECMAQQAiDGAAAAxBhAAIMYAAgDEGEAAgBgDCAAQYwABAGIMIABAjAEEAIgxgAAAMQYQACDGAAIAxBhAAIAYAwgAEGMAAQBiDCAAQIwBBACIMYAAADEGEAAgxgACAMQYQACAGAMIABBjAAEAYgwgAECMAQQAiDGAAAAxBhAAIMYAAgDEGEAAgBgDCAAQYwABAGIMIABAjAEEAIgxgAAAMQYQACDGAAIAxBhAAIAYAwgAEGMAAQBiDCAAQIwBBACIMYAAADEGEAAgxgACAMQYQACAGAMIABBjAAEAYgwgAECMAQQAiDGAAAAxBhAAIMYAAgDEGEAAgBgDCAAQYwABAGIMIABAjAEEAIgxgAAAMQYQACDGAAIAxBhAAIAYAwgAEGMAAQBiDCAAQIwBBACIMYAAADEGEAAgxgACAMQYQACAGAMIABBjAAEAYgwgAECMAQQAiDGAAAAxBhAAIMYAAgDEGEAAgBgDCAAQYwABAGIMIABAjAEEAIgxgAAAMQYQACDGAAIAxBhAAIAYAwgAEGMAAQBiDCAAQIwBBACIMYAAADEGEAAgxgACAMQYQACAGAMIABBjAAEAYgwgAECMAQQAiDGAAAAxBhAAIMYAAgDEGEAAgBgDCAAQYwABAGIMIABAjAEEAIgxgAAAMQYQACDGAAIAxBhAAIAYAwgAEGMAAQBiDCAAQIwBBACIMYAAADEGEAAgxgACAMQYQACAGAMIABBjAAEAYgwgAECMAQQAiDGAAAAxBhAAIMYAAgDEGEAAgBgDCAAQYwABAGIMIABAjAEEAIgxgAAAMQYQACDGAAIAxBhAAIAYAwgAEGMAAQBiDCAAQIwBBACIMYAAADEGEAAgxgACAMQYQACAGAMIABBjAAEAYgwgAECMAQQAiDGAAAAxBhAAIMYAAgDEGEAAgBgDCAAQYwABAGIMIABAjAEEAIgxgAAAMQYQACDGAAIAxBhAAIAYAwgAEGMAAQBiDCAAQIwBBACIMYAAADEGEAAgxgACAMQYQACAGAMIABBjAAEAYgwgAECMAQQAiDGAAAAxBhAAIMYAAgDEGEAAgBgDCAAQYwABAGIMIABAjAEEAIgxgAAAMQYQACDGAAIAxBhAAIAYAwgAEGMAAQBiDCAAQIwBBACIMYAAADEGEAAgxgACAMQYQACAGAMIABBjAAEAYgwgAECMAQQAiDGAAAAxBhAAIMYAAgDEGEAAgBgDCAAQYwABAGIMIABAjAEEAIgxgAAAMQYQACDGAAIAxBhAAIAYAwgAEGMAAQBiDCAAQIwBBACIMYAAADEGEAAgxgACAMQYQACAGAMIABBjAAEAYgwgAECMAQQAiDGAAAAxBhAAIMYAAgDEGEAAgBgDCAAQYwABAGIMIABAjAEEAIgxgAAAMQYQACDGAAIAxBhAAIAYAwgAEGMAAQBiDCAAQIwBBACIMYAAADEGEAAgxgACAMQYQACAGAMIABBjAAEAYgwgAECMAQQAiDGAAAAxBhAAIMYAAgDEGEAAgBgDCAAQYwABAGIMIABAjAEEAIgxgAAAMQYQACDGAAIAxBhAAIAYAwgAEGMAAQBiDCAAQIwBBACIMYAAADEGEAAgxgACAMQYQACAGAMIABBjAAEAYgwgAECMAQQAiDGAAAAxBhAAIMYAAgDEGEAAgBgDCAAQYwABAGIMIABAjAEEAIgxgAAAMQYQACDGAAIAxBhAAIAYAwgAEGMAAQBiDCAAQIwBBACIMYAAADEGEAAgxgACAMQYQACAGAMIABBjAAEAYgwgAECMAQQAiDGAAAAxBhAAIMYAAgDEGEAAgBgDCAAQYwABAGIMIABAjAEEAIgxgAAAMQYQACDGAAIAxBhAAIAYAwgAEGMAAQBiDCAAQIwBBACIMYAAADEGEAAgxgACAMQYQACAGAMIABBjAAEAYgwgAECMAQQAiDGAAAAxBhAAIMYAAgDEGEAAgBgDCAAQYwABAGIMIABAjAEEAIgxgAAAMQYQACDGAAIAxBhAAIAYAwgAEGMAAQBiDCAAQIwBBACIMYAAADEGEAAgxgACAMQYQACAGAMIABBjAAEAYgwgAECMAQQAiDGAAAAxBhAAIMYAAgDEGEAAgBgDCAAQYwABAGIMIABAjAEEAIgxgAAAMQYQACDmAvP2Br2+FVmOAAAAAElFTkSuQmCC",
       "datasetInfos": [],
       "metadata": {},
       "removedWidgets": [],
       "type": "image"
      }
     },
     "output_type": "display_data"
    }
   ],
   "source": [
    "from pyspark.sql.functions import udf\n",
    "from random import randint\n",
    "\n",
    "@udf('double')\n",
    "def add_random(profit):\n",
    "  pass\n",
    "\n",
    "random_profit_dataframe = None\n",
    "\n",
    "display(random_profit_dataframe)"
   ]
  }
 ],
 "metadata": {
  "application/vnd.databricks.v1+notebook": {
   "dashboards": [],
   "language": "python",
   "notebookMetadata": {
    "pythonIndentUnit": 2
   },
   "notebookName": "Pyspark introduction",
   "notebookOrigID": 1904360040201280,
   "widgets": {
    "X": {
     "currentValue": "1",
     "nuid": "9b76b637-c72a-4197-b281-f18af277b81f",
     "widgetInfo": {
      "defaultValue": "1",
      "label": null,
      "name": "X",
      "options": {
       "choices": [
        "1",
        "2",
        "3",
        "4",
        "5",
        "6",
        "7",
        "8",
        "9"
       ],
       "widgetType": "dropdown"
      },
      "widgetType": "dropdown"
     }
    }
   }
  },
  "kernelspec": {
   "display_name": "venv",
   "language": "python",
   "name": "venv"
  },
  "language_info": {
   "codemirror_mode": {
    "name": "ipython",
    "version": 3
   },
   "file_extension": ".py",
   "mimetype": "text/x-python",
   "name": "python",
   "nbconvert_exporter": "python",
   "pygments_lexer": "ipython3",
   "version": "3.9.4"
  }
 },
 "nbformat": 4,
 "nbformat_minor": 4
}